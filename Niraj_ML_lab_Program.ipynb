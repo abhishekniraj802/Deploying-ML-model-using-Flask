{
  "nbformat": 4,
  "nbformat_minor": 0,
  "metadata": {
    "colab": {
      "provenance": [],
      "include_colab_link": true
    },
    "kernelspec": {
      "name": "python3",
      "display_name": "Python 3"
    },
    "language_info": {
      "name": "python"
    }
  },
  "cells": [
    {
      "cell_type": "markdown",
      "metadata": {
        "id": "view-in-github",
        "colab_type": "text"
      },
      "source": [
        "<a href=\"https://colab.research.google.com/github/abhishekniraj802/Deploying-ML-model-using-Flask/blob/master/Niraj_ML_lab_Program.ipynb\" target=\"_parent\"><img src=\"https://colab.research.google.com/assets/colab-badge.svg\" alt=\"Open In Colab\"/></a>"
      ]
    },
    {
      "cell_type": "markdown",
      "source": [
        "# **1. SIMULATING A SIMPLE CALCULATOR**"
      ],
      "metadata": {
        "id": "I4UokNukx6b-"
      }
    },
    {
      "cell_type": "code",
      "execution_count": null,
      "metadata": {
        "colab": {
          "base_uri": "https://localhost:8080/"
        },
        "id": "pfgBz8rg3tt0",
        "outputId": "bbb2daf2-6c81-406e-b9b3-b85960fb40f9"
      },
      "outputs": [
        {
          "output_type": "stream",
          "name": "stdout",
          "text": [
            "Operation: +, -, *, /\n",
            "Select operations: *\n",
            "Enter first number: 4\n",
            "Enter second number: 5\n",
            "4.0 * 5.0 = 20.0\n"
          ]
        }
      ],
      "source": [
        "# PYTHON PROGRAM TO MAKE A SIMPLE CALCULATOR\n",
        "\n",
        "print(\"Operation: +, -, *, /\")\n",
        "select = input(\"Select operations: \")\n",
        "\n",
        "num1 = float(input(\"Enter first number: \"))\n",
        "num2 = float(input(\"Enter second number: \"))\n",
        "\n",
        "if select == \"+\":\n",
        "  print(num1, \"+\", num2, \"=\", num1+num2)\n",
        "\n",
        "elif select == \"-\":\n",
        " print(num1, \"-\", num2, \"=\", num1-num2)\n",
        "\n",
        "elif select == \"*\":\n",
        " print(num1, \"*\", num2, \"=\", num1*num2)\n",
        "\n",
        "elif select == \"-\":\n",
        "  print(num1, \"/\", num2, \"=\", num1/num2)\n",
        "else:\n",
        "  print (\"Invalid input\")"
      ]
    },
    {
      "cell_type": "markdown",
      "source": [
        "## **2. ARMSTRONG SERIES** "
      ],
      "metadata": {
        "id": "VdWuMrlUx5a_"
      }
    },
    {
      "cell_type": "code",
      "source": [
        "#ARMSTRONG SERIES\n",
        "\n",
        "lower = int(input(\"Enter the lower range : \"))\n",
        "upper = int(input(\"Enter the upper range : \"))\n",
        "for num in range(lower, upper + 1):\n",
        "  order = len(str(num))\n",
        "  sum = 0\n",
        "  temp = num\n",
        "  while temp > 0:\n",
        "    digit = temp%10\n",
        "    sum+=digit**order\n",
        "    temp//=10\n",
        "    if num == sum:\n",
        "      print (num)"
      ],
      "metadata": {
        "colab": {
          "base_uri": "https://localhost:8080/"
        },
        "id": "tCCbpwQy4yZt",
        "outputId": "618443f3-295e-4a74-aa71-e143285a0363"
      },
      "execution_count": null,
      "outputs": [
        {
          "output_type": "stream",
          "name": "stdout",
          "text": [
            "Enter the lower range : 100\n",
            "Enter the upper range : 900\n",
            "125\n",
            "153\n",
            "216\n",
            "370\n",
            "371\n",
            "407\n",
            "729\n"
          ]
        }
      ]
    },
    {
      "cell_type": "markdown",
      "source": [
        "## **3. FIBONACCI SERIES**"
      ],
      "metadata": {
        "id": "t13ysJ_cyPNi"
      }
    },
    {
      "cell_type": "code",
      "source": [
        "# FIBONACCI SERIES\n",
        "\n",
        "nterms = int(input(\"How many terms? \"))\n",
        "n1, n2 = 0, 1\n",
        "count = 0\n",
        "if nterms <= 0:\n",
        "  print(\"Please enter a positive integer\")\n",
        "\n",
        "elif nterms == 1:\n",
        "  print(\"Fibonacci sequence upto\",nterms,\":\")\n",
        "  print(n1)\n",
        "\n",
        "else:\n",
        "  print(\"Fibonacci sequence:\")\n",
        "  while count < nterms:\n",
        "    print(n1)\n",
        "    nth = n1 + n2\n",
        "    n1 = n2\n",
        "    n2 = nth\n",
        "    count += 1"
      ],
      "metadata": {
        "colab": {
          "base_uri": "https://localhost:8080/"
        },
        "id": "fqf44gdJ5cvm",
        "outputId": "6951bda6-31c1-4cbf-f049-d5d3419a736c"
      },
      "execution_count": null,
      "outputs": [
        {
          "output_type": "stream",
          "name": "stdout",
          "text": [
            "How many terms? 8\n",
            "Fibonacci sequence:\n",
            "0\n",
            "1\n",
            "1\n",
            "2\n",
            "3\n",
            "5\n",
            "8\n",
            "13\n"
          ]
        }
      ]
    },
    {
      "cell_type": "markdown",
      "source": [
        "## **4. MODULES AND FUNCTIONS**"
      ],
      "metadata": {
        "id": "gkPNnWgEyasX"
      }
    },
    {
      "cell_type": "code",
      "source": [
        "#MODULES AND FUNCTIONS\n",
        "\n",
        "def summation(a,b):\n",
        " return a+b\n",
        "def multiplication(a,b):\n",
        " return a*b\n",
        "def divide(a,b):\n",
        " return a/b\n",
        "a = int(input(\"Enter the first number\"))\n",
        "b = int(input(\"Enter the second number\"))\n",
        "print(\"Sum = \",summation(a,b))\n",
        "print(\"Product = \",multiplication(a,b))\n",
        "print(\"Divisor = \",divide(a,b))"
      ],
      "metadata": {
        "colab": {
          "base_uri": "https://localhost:8080/"
        },
        "id": "_bARLtnt6FJ9",
        "outputId": "718ad0f9-3dea-4a8f-d869-688903c63785"
      },
      "execution_count": null,
      "outputs": [
        {
          "output_type": "stream",
          "name": "stdout",
          "text": [
            "Enter the first number5\n",
            "Enter the second number10\n",
            "Sum =  15\n",
            "Product =  50\n",
            "Divisor =  0.5\n"
          ]
        }
      ]
    },
    {
      "cell_type": "markdown",
      "source": [
        "## **5. WORKING WITH STRINGS**"
      ],
      "metadata": {
        "id": "4QcTiIXlykKg"
      }
    },
    {
      "cell_type": "code",
      "source": [
        "#WORKING WITH STRINGS\n",
        "#a) From the string input count the special characters, alphabets, digits, lowercase and uppercase characters\n",
        "\n",
        "def Count(str):\n",
        "  alpha,upper,lower,number,special = 0,0,0,0,0\n",
        "\n",
        "  for i in range(len(str)):\n",
        "    if str[i].isalpha():\n",
        "      alpha += 1\n",
        "      \n",
        "    if str[i].isupper():\n",
        "      upper += 1\n",
        "\n",
        "    elif str[i].islower():\n",
        "      lower +=1\n",
        "\n",
        "    elif str[i].isdigit():\n",
        "      number += 1\n",
        "            \n",
        "    elif str[i]!=\" \":\n",
        "      special += 1\n",
        "      print('Digits:', number)\n",
        "      print('Alphabets:', alpha)\n",
        "      print('Special characters:', special)\n",
        "      print('Lowercase:', lower)\n",
        "      print('Uppercase:', upper)\n",
        "str = input(\"Enter a string: \")\n",
        "Count(str)"
      ],
      "metadata": {
        "id": "ryGcCo5B9iOo",
        "colab": {
          "base_uri": "https://localhost:8080/"
        },
        "outputId": "13e1ffd0-3dcc-4fed-9e15-94d1c1a90707"
      },
      "execution_count": null,
      "outputs": [
        {
          "output_type": "stream",
          "name": "stdout",
          "text": [
            "Enter a string: Kaviya@\n",
            "Digits: 0\n",
            "Alphabets: 6\n",
            "Special characters: 1\n",
            "Lowercase: 5\n",
            "Uppercase: 1\n"
          ]
        }
      ]
    },
    {
      "cell_type": "code",
      "source": [
        "#b) Print the String \"Welcome\". Matrix size must be N X M. ( N is an odd natural number, and M is 3 times N.). \n",
        "\n",
        "import math\n",
        "N, M = map(int, input(\"Enter N and M: \").split())\n",
        "for i in range(0,math.floor(N/2)):\n",
        "  s= '.|.'*i\n",
        "  print (s.rjust(math.floor((M-2)/2),'-')+'.|.'+('.|.'*i).ljust(math.floor((M-2)/2),'-'))\n",
        "  print ('WELCOME'.center(M,'-'))\n",
        "for i in reversed(range(0,math.floor(N/2))):\n",
        "    s = '.|.'*i\n",
        "    print (s.rjust(math.floor((M-2)/2),'-')+'.|.'+('.|.'*i).ljust(math.floor((M-2)/2),'-'))"
      ],
      "metadata": {
        "id": "hDhes91I-ch_",
        "colab": {
          "base_uri": "https://localhost:8080/"
        },
        "outputId": "348811c4-ca09-4300-ae9e-a9945e11ec81"
      },
      "execution_count": null,
      "outputs": [
        {
          "output_type": "stream",
          "name": "stdout",
          "text": [
            "Enter N and M: 9 27\n",
            "------------.|.------------\n",
            "----------WELCOME----------\n",
            "---------.|..|..|.---------\n",
            "----------WELCOME----------\n",
            "------.|..|..|..|..|.------\n",
            "----------WELCOME----------\n",
            "---.|..|..|..|..|..|..|.---\n",
            "----------WELCOME----------\n",
            "---.|..|..|..|..|..|..|.---\n",
            "------.|..|..|..|..|.------\n",
            "---------.|..|..|.---------\n",
            "------------.|.------------\n"
          ]
        }
      ]
    },
    {
      "cell_type": "markdown",
      "source": [
        "## **6. DATA PREPROCESSING: BUILDING GOOD TRAINING SETS**"
      ],
      "metadata": {
        "id": "aNGL5phVyv_C"
      }
    },
    {
      "cell_type": "code",
      "source": [
        "import pandas as pd\n",
        "df = pd.read_csv(\"/content/Heart.csv\")\n",
        "df\n",
        "\n",
        "df.describe()\n",
        "\n",
        "df.info()\n",
        "\n",
        "df.replace(0,'NAN')\n",
        "\n",
        "df.dropna()\n",
        "\n",
        "df.fillna(df.mean())\n",
        "\n",
        "x=df.iloc[:,0:14].values\n",
        "x\n",
        "\n",
        "y=df.iloc[:,14].values\n",
        "y\n",
        "\n",
        "from sklearn.model_selection import train_test_split\n",
        "x_train,x_test,y_train,y_test = train_test_split(x,y,test_size = 0.2, random_state=0)\n",
        "print (x_train.shape)\n",
        "print (x_test.shape)"
      ],
      "metadata": {
        "colab": {
          "base_uri": "https://localhost:8080/"
        },
        "id": "8Vx64OV0CyRa",
        "outputId": "0248d4ee-5c62-4a80-a86b-00611f5a12db"
      },
      "execution_count": null,
      "outputs": [
        {
          "output_type": "stream",
          "name": "stdout",
          "text": [
            "<class 'pandas.core.frame.DataFrame'>\n",
            "RangeIndex: 303 entries, 0 to 302\n",
            "Data columns (total 15 columns):\n",
            " #   Column      Non-Null Count  Dtype  \n",
            "---  ------      --------------  -----  \n",
            " 0   Unnamed: 0  303 non-null    int64  \n",
            " 1   Age         303 non-null    int64  \n",
            " 2   Sex         303 non-null    int64  \n",
            " 3   ChestPain   303 non-null    object \n",
            " 4   RestBP      303 non-null    int64  \n",
            " 5   Chol        303 non-null    int64  \n",
            " 6   Fbs         303 non-null    int64  \n",
            " 7   RestECG     303 non-null    int64  \n",
            " 8   MaxHR       303 non-null    int64  \n",
            " 9   ExAng       303 non-null    int64  \n",
            " 10  Oldpeak     303 non-null    float64\n",
            " 11  Slope       303 non-null    int64  \n",
            " 12  Ca          299 non-null    float64\n",
            " 13  Thal        301 non-null    object \n",
            " 14  AHD         303 non-null    object \n",
            "dtypes: float64(2), int64(10), object(3)\n",
            "memory usage: 35.6+ KB\n"
          ]
        },
        {
          "output_type": "stream",
          "name": "stderr",
          "text": [
            "<ipython-input-7-fc3bc3a8ec69>:13: FutureWarning: Dropping of nuisance columns in DataFrame reductions (with 'numeric_only=None') is deprecated; in a future version this will raise TypeError.  Select only valid columns before calling the reduction.\n",
            "  df.fillna(df.mean())\n"
          ]
        },
        {
          "output_type": "stream",
          "name": "stdout",
          "text": [
            "(242, 14)\n",
            "(61, 14)\n"
          ]
        }
      ]
    },
    {
      "cell_type": "markdown",
      "source": [
        "##**7.MANIPULATE THE TWITTER DATASET**"
      ],
      "metadata": {
        "id": "waRS1vjn0oMW"
      }
    },
    {
      "cell_type": "code",
      "source": [
        "import pandas as pd\n",
        "import numpy as np\n",
        "import re\n",
        "data = pd.read_csv(\"/content/tweets1.csv\")\n",
        "data\n",
        "def remove_pattern(input_txt, pattern):\n",
        " r = re.findall(pattern,input_txt)\n",
        " for i in r:\n",
        "   input_txt = re.sub(i,'',input_txt)\n",
        " return input_txt\n",
        "print(data)\n",
        "data['new'] = np.vectorize(remove_pattern)(data ['text'],\"@[\\w]*\")\n",
        "print(data)\n",
        "data['new'] = data['new'].str.replace(\"[^a-zA-Z#]\",\" \")\n",
        "print(data)\n",
        "data['new'] = data['new'].apply(lambda x:' '.join([w for w in x.split() if len(w) > 3]))\n",
        "print (data)\n",
        "tokenized_tweet = data['new'].apply (lambda x:x.split())\n",
        "print (tokenized_tweet.head())\n",
        "from nltk.stem import PorterStemmer\n",
        "stemmer = PorterStemmer()\n",
        "tokenized_tweet = tokenized_tweet.apply(lambda x:[stemmer.stem(i) for i in x])\n",
        "print (tokenized_tweet.head())"
      ],
      "metadata": {
        "colab": {
          "base_uri": "https://localhost:8080/"
        },
        "id": "KjIasjFOMHTE",
        "outputId": "74929d3c-ed94-45b9-8921-8a333f255a09"
      },
      "execution_count": null,
      "outputs": [
        {
          "output_type": "stream",
          "name": "stdout",
          "text": [
            "                      id           created_at  \\\n",
            "0     849636868052275200  2017-04-05 14:56:29   \n",
            "1     848988730585096192  2017-04-03 20:01:01   \n",
            "2     848943072423497728  2017-04-03 16:59:35   \n",
            "3     848935705057280001  2017-04-03 16:30:19   \n",
            "4     848416049573658624  2017-04-02 06:05:23   \n",
            "...                  ...                  ...   \n",
            "2814  142881284019060736  2011-12-03 08:22:07   \n",
            "2815  142880871391838208  2011-12-03 08:20:28   \n",
            "2816  142188458125963264  2011-12-01 10:29:04   \n",
            "2817  142179928203460608  2011-12-01 09:55:11   \n",
            "2818         15434727182  2010-06-04 18:31:57   \n",
            "\n",
            "                                                   text  \n",
            "0     b'And so the robots spared humanity ... https:...  \n",
            "1     b\"@ForIn2020 @waltmossberg @mims @defcon_5 Exa...  \n",
            "2         b'@waltmossberg @mims @defcon_5 Et tu, Walt?'  \n",
            "3                   b'Stormy weather in Shortville ...'  \n",
            "4     b\"@DaveLeeBBC @verge Coal is dying due to nat ...  \n",
            "...                                                 ...  \n",
            "2814               b'That was a total non sequitur btw'  \n",
            "2815  b'Great Voltaire quote, arguably better than T...  \n",
            "2816  b'I made the volume on the Model S http://t.co...  \n",
            "2817  b\"Went to Iceland on Sat to ride bumper cars o...  \n",
            "2818  b'Please ignore prior tweets, as that was some...  \n",
            "\n",
            "[2819 rows x 3 columns]\n",
            "                      id           created_at  \\\n",
            "0     849636868052275200  2017-04-05 14:56:29   \n",
            "1     848988730585096192  2017-04-03 20:01:01   \n",
            "2     848943072423497728  2017-04-03 16:59:35   \n",
            "3     848935705057280001  2017-04-03 16:30:19   \n",
            "4     848416049573658624  2017-04-02 06:05:23   \n",
            "...                  ...                  ...   \n",
            "2814  142881284019060736  2011-12-03 08:22:07   \n",
            "2815  142880871391838208  2011-12-03 08:20:28   \n",
            "2816  142188458125963264  2011-12-01 10:29:04   \n",
            "2817  142179928203460608  2011-12-01 09:55:11   \n",
            "2818         15434727182  2010-06-04 18:31:57   \n",
            "\n",
            "                                                   text  \\\n",
            "0     b'And so the robots spared humanity ... https:...   \n",
            "1     b\"@ForIn2020 @waltmossberg @mims @defcon_5 Exa...   \n",
            "2         b'@waltmossberg @mims @defcon_5 Et tu, Walt?'   \n",
            "3                   b'Stormy weather in Shortville ...'   \n",
            "4     b\"@DaveLeeBBC @verge Coal is dying due to nat ...   \n",
            "...                                                 ...   \n",
            "2814               b'That was a total non sequitur btw'   \n",
            "2815  b'Great Voltaire quote, arguably better than T...   \n",
            "2816  b'I made the volume on the Model S http://t.co...   \n",
            "2817  b\"Went to Iceland on Sat to ride bumper cars o...   \n",
            "2818  b'Please ignore prior tweets, as that was some...   \n",
            "\n",
            "                                                    new  \n",
            "0     b'And so the robots spared humanity ... https:...  \n",
            "1     b\"    Exactly. Tesla is absurdly overvalued if...  \n",
            "2                                    b'   Et tu, Walt?'  \n",
            "3                   b'Stormy weather in Shortville ...'  \n",
            "4     b\"  Coal is dying due to nat gas fracking. It'...  \n",
            "...                                                 ...  \n",
            "2814               b'That was a total non sequitur btw'  \n",
            "2815  b'Great Voltaire quote, arguably better than T...  \n",
            "2816  b'I made the volume on the Model S http://t.co...  \n",
            "2817  b\"Went to Iceland on Sat to ride bumper cars o...  \n",
            "2818  b'Please ignore prior tweets, as that was some...  \n",
            "\n",
            "[2819 rows x 4 columns]\n",
            "                      id           created_at  \\\n",
            "0     849636868052275200  2017-04-05 14:56:29   \n",
            "1     848988730585096192  2017-04-03 20:01:01   \n",
            "2     848943072423497728  2017-04-03 16:59:35   \n",
            "3     848935705057280001  2017-04-03 16:30:19   \n",
            "4     848416049573658624  2017-04-02 06:05:23   \n",
            "...                  ...                  ...   \n",
            "2814  142881284019060736  2011-12-03 08:22:07   \n",
            "2815  142880871391838208  2011-12-03 08:20:28   \n",
            "2816  142188458125963264  2011-12-01 10:29:04   \n",
            "2817  142179928203460608  2011-12-01 09:55:11   \n",
            "2818         15434727182  2010-06-04 18:31:57   \n",
            "\n",
            "                                                   text  \\\n",
            "0     b'And so the robots spared humanity ... https:...   \n",
            "1     b\"@ForIn2020 @waltmossberg @mims @defcon_5 Exa...   \n",
            "2         b'@waltmossberg @mims @defcon_5 Et tu, Walt?'   \n",
            "3                   b'Stormy weather in Shortville ...'   \n",
            "4     b\"@DaveLeeBBC @verge Coal is dying due to nat ...   \n",
            "...                                                 ...   \n",
            "2814               b'That was a total non sequitur btw'   \n",
            "2815  b'Great Voltaire quote, arguably better than T...   \n",
            "2816  b'I made the volume on the Model S http://t.co...   \n",
            "2817  b\"Went to Iceland on Sat to ride bumper cars o...   \n",
            "2818  b'Please ignore prior tweets, as that was some...   \n",
            "\n",
            "                                                    new  \n",
            "0     b And so the robots spared humanity     https ...  \n",
            "1     b     Exactly  Tesla is absurdly overvalued if...  \n",
            "2                                    b    Et tu  Walt    \n",
            "3                   b Stormy weather in Shortville       \n",
            "4     b   Coal is dying due to nat gas fracking  It ...  \n",
            "...                                                 ...  \n",
            "2814               b That was a total non sequitur btw   \n",
            "2815  b Great Voltaire quote  arguably better than T...  \n",
            "2816  b I made the volume on the Model S http   t co...  \n",
            "2817  b Went to Iceland on Sat to ride bumper cars o...  \n",
            "2818  b Please ignore prior tweets  as that was some...  \n",
            "\n",
            "[2819 rows x 4 columns]\n",
            "                      id           created_at  \\\n",
            "0     849636868052275200  2017-04-05 14:56:29   \n",
            "1     848988730585096192  2017-04-03 20:01:01   \n",
            "2     848943072423497728  2017-04-03 16:59:35   \n",
            "3     848935705057280001  2017-04-03 16:30:19   \n",
            "4     848416049573658624  2017-04-02 06:05:23   \n",
            "...                  ...                  ...   \n",
            "2814  142881284019060736  2011-12-03 08:22:07   \n",
            "2815  142880871391838208  2011-12-03 08:20:28   \n",
            "2816  142188458125963264  2011-12-01 10:29:04   \n",
            "2817  142179928203460608  2011-12-01 09:55:11   \n",
            "2818         15434727182  2010-06-04 18:31:57   \n",
            "\n",
            "                                                   text  \\\n",
            "0     b'And so the robots spared humanity ... https:...   \n",
            "1     b\"@ForIn2020 @waltmossberg @mims @defcon_5 Exa...   \n",
            "2         b'@waltmossberg @mims @defcon_5 Et tu, Walt?'   \n",
            "3                   b'Stormy weather in Shortville ...'   \n",
            "4     b\"@DaveLeeBBC @verge Coal is dying due to nat ...   \n",
            "...                                                 ...   \n",
            "2814               b'That was a total non sequitur btw'   \n",
            "2815  b'Great Voltaire quote, arguably better than T...   \n",
            "2816  b'I made the volume on the Model S http://t.co...   \n",
            "2817  b\"Went to Iceland on Sat to ride bumper cars o...   \n",
            "2818  b'Please ignore prior tweets, as that was some...   \n",
            "\n",
            "                                                    new  \n",
            "0                 robots spared humanity https JUJQWfCv  \n",
            "1     Exactly Tesla absurdly overvalued based past t...  \n",
            "2                                                  Walt  \n",
            "3                             Stormy weather Shortville  \n",
            "4                    Coal dying fracking basically dead  \n",
            "...                                                 ...  \n",
            "2814                                That total sequitur  \n",
            "2815  Great Voltaire quote arguably better than Twai...  \n",
            "2816  made volume Model http wMCnT just need work mi...  \n",
            "2817  Went Iceland ride bumper cars country Vlad rin...  \n",
            "2818  Please ignore prior tweets that someone preten...  \n",
            "\n",
            "[2819 rows x 4 columns]\n",
            "0          [robots, spared, humanity, https, JUJQWfCv]\n",
            "1    [Exactly, Tesla, absurdly, overvalued, based, ...\n",
            "2                                               [Walt]\n",
            "3                        [Stormy, weather, Shortville]\n",
            "4             [Coal, dying, fracking, basically, dead]\n",
            "Name: new, dtype: object\n"
          ]
        },
        {
          "output_type": "stream",
          "name": "stderr",
          "text": [
            "<ipython-input-7-b4aa4c19794a>:14: FutureWarning: The default value of regex will change from True to False in a future version.\n",
            "  data['new'] = data['new'].str.replace(\"[^a-zA-Z#]\",\" \")\n"
          ]
        },
        {
          "output_type": "stream",
          "name": "stdout",
          "text": [
            "0                [robot, spare, human, http, jujqwfcv]\n",
            "1    [exactli, tesla, absurdli, overvalu, base, pas...\n",
            "2                                               [walt]\n",
            "3                          [stormi, weather, shortvil]\n",
            "4                      [coal, die, frack, basic, dead]\n",
            "Name: new, dtype: object\n"
          ]
        }
      ]
    },
    {
      "cell_type": "markdown",
      "source": [
        "## **8.EVALUATING THE RESULTS OF MACHINE LEARNING**"
      ],
      "metadata": {
        "id": "c9WN8fplNEC-"
      }
    },
    {
      "cell_type": "code",
      "source": [
        "y=['0','1','0','1','1','1','0','1','0','1','0','0','0','1','1','1','0','1','1','0']\n",
        "y_pred = ['0','0','0','0','1','0','1','1','1','1','0','0','0','0','0','1','0','1','1','0']\n",
        "print (y)\n",
        "print(y_pred)\n",
        "j=0\n",
        "TP,TN,FP,FN = 0,0,0,0\n",
        "for i in y:\n",
        "  if i == '1' and y_pred[j] =='1':\n",
        "    TP +=1\n",
        "  elif i == '0' and y_pred[j] =='0':\n",
        "    TN +=1\n",
        "  elif i == '1' and y_pred[j] =='0':\n",
        "    FP +=1\n",
        "  elif i == '0' and y_pred[j] =='1':\n",
        "    FN+=1\n",
        "  j+=1\n",
        "confusion_matrix = [TP,TN,FP,FN]\n",
        "print (\"Confusion Matrix : \", confusion_matrix)\n",
        "ACC = (TP+TN) / (TP+FP+TN+FN)\n",
        "print (\"ACCURACY : \", ACC)\n",
        "PREC = TP / (TP+FP)\n",
        "print (\"PRECISION : \", PREC)\n",
        "REC = TP / (TP+FN)\n",
        "print (\"RECALL : \", REC)\n",
        "SN = TP/ (TP+FN)\n",
        "print (\"SENSITIVITY : \", SN)\n",
        "SP = TN/ (TN+FP)\n",
        "print (\"SPECIFICITY : \", SP)\n",
        "MCE = 1-ACC\n",
        "print (\"MISCLASSIFICATION ERROR : \", MCE)"
      ],
      "metadata": {
        "colab": {
          "base_uri": "https://localhost:8080/"
        },
        "id": "Zguo_fwLMiOB",
        "outputId": "ddfac2d5-6c30-43bc-ffae-061400e380bb"
      },
      "execution_count": null,
      "outputs": [
        {
          "output_type": "stream",
          "name": "stdout",
          "text": [
            "['0', '1', '0', '1', '1', '1', '0', '1', '0', '1', '0', '0', '0', '1', '1', '1', '0', '1', '1', '0']\n",
            "['0', '0', '0', '0', '1', '0', '1', '1', '1', '1', '0', '0', '0', '0', '0', '1', '0', '1', '1', '0']\n",
            "Confusion Matrix :  [6, 7, 5, 2]\n",
            "ACCURACY :  0.65\n",
            "PRECISION :  0.5454545454545454\n",
            "RECALL :  0.75\n",
            "SENSITIVITY :  0.75\n",
            "SPECIFICITY :  0.5833333333333334\n",
            "MISCLASSIFICATION ERROR :  0.35\n"
          ]
        }
      ]
    },
    {
      "cell_type": "markdown",
      "source": [
        "## **9. IMPLEMENTING LINEAR REGRESSION**"
      ],
      "metadata": {
        "id": "8JZDjwEsNIBm"
      }
    },
    {
      "cell_type": "code",
      "source": [
        "from sklearn.metrics import r2_score\n",
        "from sklearn.model_selection import train_test_split\n",
        "import pandas as pd\n",
        "import matplotlib.pyplot as plt\n",
        "df = pd.read_csv(\"/content/Salary_Data.csv\")\n",
        "x = list(df[\"YearsExperience\"])\n",
        "y = list(df[\"Salary\"])\n",
        "def LinearRegressor(x,y):\n",
        "  sumX = sum(x)\n",
        "  sumY = sum(y)\n",
        "  xMean = sumX/len(x)\n",
        "  yMean = sumY/len(y)\n",
        "  x_minus_xmean = [val-xMean for val in x]\n",
        "  y_minus_ymean = [val-yMean for val in y]\n",
        "  zip_li = zip(x_minus_xmean, y_minus_ymean)\n",
        "  val = [x*y for x,y in zip_li]\n",
        "  b1 = sum(val)/sum([x**2 for x in x_minus_xmean])\n",
        "  b0 = yMean-b1*xMean\n",
        "  return b0,b1\n",
        "x_train, x_test, y_train, y_test = train_test_split(x, y, test_size=1/2,shuffle=True)\n",
        "b = LinearRegressor(x_train, y_train)\n",
        "y_pred = [b[0]+b[1]*val for val in x_test]\n",
        "r2_score(y_test, y_pred)\n",
        "plt.plot(x_test,y_pred)\n",
        "plt.scatter(x_test, y_test,c=\"k\")"
      ],
      "metadata": {
        "colab": {
          "base_uri": "https://localhost:8080/",
          "height": 447
        },
        "id": "yqimLoNWNOO_",
        "outputId": "a4cbe681-1bf7-41e4-d18b-a1fb27f559b0"
      },
      "execution_count": null,
      "outputs": [
        {
          "output_type": "execute_result",
          "data": {
            "text/plain": [
              "<matplotlib.collections.PathCollection at 0x7fdea91802b0>"
            ]
          },
          "metadata": {},
          "execution_count": 11
        },
        {
          "output_type": "display_data",
          "data": {
            "text/plain": [
              "<Figure size 640x480 with 1 Axes>"
            ],
            "image/png": "[encoded data removed]"
          },
          "metadata": {}
        }
      ]
    },
    {
      "cell_type": "markdown",
      "source": [
        "## **10 A) Implement Classification Algorithms**\n",
        "## **10 B) Implement Classification Algorithms using Naive baye's algorithm**"
      ],
      "metadata": {
        "id": "K55sP2EvPHui"
      }
    },
    {
      "cell_type": "code",
      "source": [
        "import pandas as pd\n",
        "import numpy as np\n",
        "from math import *\n",
        "df = pd.DataFrame()\n",
        "df ['refund'] = ['yes', 'no', 'no', 'yes', 'no', 'no', 'yes', 'no', 'no', 'no']\n",
        "df ['marital_status'] = ['single', 'married', 'married', 'single', 'single', 'divorced',\n",
        "'married', 'single', 'single', 'married']\n",
        "df ['taxable_income'] = [125000, 100000,150000,250000, 300000, 350000,\n",
        "500000,180000,420000,275000]\n",
        "df ['evade'] = ['no', 'no', 'no', 'no', 'yes', 'no', 'no', 'yes', 'no', 'yes']\n",
        "for i in range (len(df)):\n",
        "  df.loc[i, 'taxable_income'] = str(ceil(df.loc[i, 'taxable_income']/100000))\n",
        "df\n",
        "data = pd.get_dummies(df[df.columns])\n",
        "data\n",
        "for i in range (1,4):\n",
        "  if ('taxable_income' + str(i) not in data.columns):\n",
        "    data['taxable_income' + str(i)] = [0 for i in range (10)]\n",
        "\n",
        "data\n",
        "x = ['no', 'married', 180000]\n",
        "x[2] = str(ceil(x[2]/100000))\n",
        "x"
      ],
      "metadata": {
        "colab": {
          "base_uri": "https://localhost:8080/"
        },
        "id": "uS043P2ZOYFF",
        "outputId": "a5f38eb3-3f62-4e55-b63a-45ff5e62c6bc"
      },
      "execution_count": null,
      "outputs": [
        {
          "output_type": "execute_result",
          "data": {
            "text/plain": [
              "['no', 'married', '2']"
            ]
          },
          "metadata": {},
          "execution_count": 12
        }
      ]
    },
    {
      "cell_type": "code",
      "source": [
        "import pandas as pd\n",
        "data=pd.read_csv(\"/content/Iris.csv\")\n",
        "X =data.iloc[:,[1,2,3,4]].values\n",
        "y =data.iloc[:,5].values\n",
        "from sklearn.model_selection import train_test_split\n",
        "X_train, X_test, y_train, y_test = train_test_split(X, y, test_size=0.2,\n",
        "random_state=1)\n",
        "from sklearn.naive_bayes import GaussianNB\n",
        "gnb = GaussianNB()\n",
        "gnb.fit(X_train, y_train)\n",
        "y_pred=gnb.predict(X_test)\n",
        "from sklearn import metrics\n",
        "print(\"Classification Accuracy:\", metrics.accuracy_score(y_test, y_pred)*100)\n",
        "cm=metrics.confusion_matrix(y_test,y_pred)\n",
        "print(cm)\n",
        "!pip install seaborn\n",
        "import seaborn as sn\n",
        "from matplotlib import pyplot as plt\n",
        "plt.figure(figsize=(5,4))\n",
        "sn.heatmap(cm,annot=True)\n",
        "plt.xlabel('Predicted value')\n",
        "plt.ylabel('Actual value')\n",
        "plt.show()"
      ],
      "metadata": {
        "colab": {
          "base_uri": "https://localhost:8080/",
          "height": 757
        },
        "id": "QS7rhr0ROw_c",
        "outputId": "a45e40a0-06f8-45c8-d22b-ad9300d84025"
      },
      "execution_count": null,
      "outputs": [
        {
          "output_type": "stream",
          "name": "stdout",
          "text": [
            "Classification Accuracy: 96.66666666666667\n",
            "[[11  0  0]\n",
            " [ 0 12  1]\n",
            " [ 0  0  6]]\n",
            "Looking in indexes: https://pypi.org/simple, https://us-python.pkg.dev/colab-wheels/public/simple/\n",
            "Requirement already satisfied: seaborn in /usr/local/lib/python3.9/dist-packages (0.12.2)\n",
            "Requirement already satisfied: numpy!=1.24.0,>=1.17 in /usr/local/lib/python3.9/dist-packages (from seaborn) (1.22.4)\n",
            "Requirement already satisfied: matplotlib!=3.6.1,>=3.1 in /usr/local/lib/python3.9/dist-packages (from seaborn) (3.7.1)\n",
            "Requirement already satisfied: pandas>=0.25 in /usr/local/lib/python3.9/dist-packages (from seaborn) (1.4.4)\n",
            "Requirement already satisfied: importlib-resources>=3.2.0 in /usr/local/lib/python3.9/dist-packages (from matplotlib!=3.6.1,>=3.1->seaborn) (5.12.0)\n",
            "Requirement already satisfied: cycler>=0.10 in /usr/local/lib/python3.9/dist-packages (from matplotlib!=3.6.1,>=3.1->seaborn) (0.11.0)\n",
            "Requirement already satisfied: pillow>=6.2.0 in /usr/local/lib/python3.9/dist-packages (from matplotlib!=3.6.1,>=3.1->seaborn) (8.4.0)\n",
            "Requirement already satisfied: fonttools>=4.22.0 in /usr/local/lib/python3.9/dist-packages (from matplotlib!=3.6.1,>=3.1->seaborn) (4.39.3)\n",
            "Requirement already satisfied: kiwisolver>=1.0.1 in /usr/local/lib/python3.9/dist-packages (from matplotlib!=3.6.1,>=3.1->seaborn) (1.4.4)\n",
            "Requirement already satisfied: packaging>=20.0 in /usr/local/lib/python3.9/dist-packages (from matplotlib!=3.6.1,>=3.1->seaborn) (23.0)\n",
            "Requirement already satisfied: contourpy>=1.0.1 in /usr/local/lib/python3.9/dist-packages (from matplotlib!=3.6.1,>=3.1->seaborn) (1.0.7)\n",
            "Requirement already satisfied: python-dateutil>=2.7 in /usr/local/lib/python3.9/dist-packages (from matplotlib!=3.6.1,>=3.1->seaborn) (2.8.2)\n",
            "Requirement already satisfied: pyparsing>=2.3.1 in /usr/local/lib/python3.9/dist-packages (from matplotlib!=3.6.1,>=3.1->seaborn) (3.0.9)\n",
            "Requirement already satisfied: pytz>=2020.1 in /usr/local/lib/python3.9/dist-packages (from pandas>=0.25->seaborn) (2022.7.1)\n",
            "Requirement already satisfied: zipp>=3.1.0 in /usr/local/lib/python3.9/dist-packages (from importlib-resources>=3.2.0->matplotlib!=3.6.1,>=3.1->seaborn) (3.15.0)\n",
            "Requirement already satisfied: six>=1.5 in /usr/local/lib/python3.9/dist-packages (from python-dateutil>=2.7->matplotlib!=3.6.1,>=3.1->seaborn) (1.16.0)\n"
          ]
        },
        {
          "output_type": "display_data",
          "data": {
            "text/plain": [
              "<Figure size 500x400 with 2 Axes>"
            ],
            "image/png": "[encoded data removed]"
          },
          "metadata": {}
        }
      ]
    },
    {
      "cell_type": "markdown",
      "source": [
        "## **11. IMPLEMENTING CLUSTERING USING K-MEANS CLUSTERING ALGORITHM**"
      ],
      "metadata": {
        "id": "7XkvqHcCPZV7"
      }
    },
    {
      "cell_type": "code",
      "source": [
        "import numpy as np\n",
        "import matplotlib.pyplot as plt\n",
        "import pandas as pd\n",
        "df= pd.read_csv('/content/Mall_Customers.csv')\n",
        "df.head(3)\n",
        "len(df)\n",
        "X = df.iloc[:, [3,4]].values\n",
        "X[0:5]\n",
        "from sklearn.cluster import KMeans\n",
        "kmeans = KMeans(n_clusters=5, init ='k-means++', max_iter=300, n_init=10,\n",
        "random_state=0 )\n",
        "kmeans.n_clusters\n",
        "y_kmeans = kmeans.fit_predict(X)\n",
        "df['cluster'] = y_kmeans\n",
        "print(y_kmeans.shape)\n",
        "plt.scatter(X[y_kmeans==0, 0], X[y_kmeans==0, 1], s=100, c='red', label ='Cluster 1')\n",
        "plt.scatter(X[y_kmeans==1, 0], X[y_kmeans==1, 1], s=100, c='blue', label ='Cluster 2')\n",
        "plt.scatter(X[y_kmeans==2, 0], X[y_kmeans==2, 1], s=100, c='green', label='Cluster 3')\n",
        "plt.scatter(X[y_kmeans==3, 0], X[y_kmeans==3, 1], s=100, c='cyan', label ='Cluster 4')\n",
        "plt.scatter(X[y_kmeans==4, 0], X[y_kmeans==4, 1], s=100, c='magenta', label ='Cluster 5')\n",
        "plt.scatter(kmeans.cluster_centers_[:, 0], kmeans.cluster_centers_[:, 1], s=300, c='yellow', label = 'Centroids')\n",
        "plt.title('Clusters of Customers') \n",
        "plt.xlabel('Annual Income(k$)')\n",
        "plt.ylabel('Spending Score(1-100)') \n",
        "plt.show()"
      ],
      "metadata": {
        "colab": {
          "base_uri": "https://localhost:8080/",
          "height": 489
        },
        "id": "VFwUV_o6PZ6h",
        "outputId": "de2b21c3-6dc1-4033-bb8e-bb3ca2a56408"
      },
      "execution_count": null,
      "outputs": [
        {
          "output_type": "stream",
          "name": "stdout",
          "text": [
            "(200,)\n"
          ]
        },
        {
          "output_type": "display_data",
          "data": {
            "text/plain": [
              "<Figure size 640x480 with 1 Axes>"
            ],
            "image/png": "[encoded data removed]"
          },
          "metadata": {}
        }
      ]
    },
    {
      "cell_type": "markdown",
      "source": [
        "## **12. FACTORIAL**"
      ],
      "metadata": {
        "id": "xCBpm4bvuJWU"
      }
    },
    {
      "cell_type": "code",
      "source": [
        "num = int(input(\"Enter a number: \"))\n",
        "factorial = 1\n",
        "if num < 0:\n",
        "    print(\"Sorry, factorial does not exist for negative numbers\")\n",
        "elif num == 0:\n",
        "    print(\"The factorial of 0 is 1\")\n",
        "else:\n",
        "    for i in range(1,num + 1):\n",
        "        factorial = factorial*i\n",
        "print(\"The factorial of\",num,\"is\",factorial)"
      ],
      "metadata": {
        "colab": {
          "base_uri": "https://localhost:8080/"
        },
        "id": "8dke1BN_uJ9R",
        "outputId": "26c2c153-9bde-4218-f920-eb8da2b96aad"
      },
      "execution_count": null,
      "outputs": [
        {
          "output_type": "stream",
          "name": "stdout",
          "text": [
            "Enter a number: 29\n",
            "The factorial of 29 is 8841761993739701954543616000000\n"
          ]
        }
      ]
    },
    {
      "cell_type": "markdown",
      "source": [
        "### TO INSTALL JUPYTER:\n",
        "\n",
        "*   Make sure python is installed \n",
        "*   pip install notebook\n",
        "*   Create a new folder\n",
        "*   Open that folder in cmd \n",
        "*   jupyter-notebook\n",
        "*   Local host will start \n",
        "\n",
        "---\n",
        "\n",
        "### TO INSTALL IN JUPYTER NOTEBOOK:\n",
        "\n",
        "*   !pip install pandas\n",
        "*   !pip install matplotlib\n",
        "*   !pip install nltk\n",
        "*   !pip install scikit-learn\n",
        "\n",
        "\n",
        "\n",
        "\n",
        "\n",
        "\n",
        "\n",
        "\n",
        "\n",
        "\n"
      ],
      "metadata": {
        "id": "l6dDrQIzvjLo"
      }
    }
  ]
}