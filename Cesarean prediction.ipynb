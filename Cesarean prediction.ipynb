{
 "cells": [
  {
   "cell_type": "markdown",
   "metadata": {},
   "source": [
    "#### Importing important libraries:"
   ]
  },
  {
   "cell_type": "code",
   "execution_count": 1,
   "metadata": {},
   "outputs": [],
   "source": [
    "import pandas as pd\n",
    "import numpy as np\n",
    "import seaborn as sns\n",
    "import matplotlib.pyplot as plt\n",
    "import warnings\n",
    "warnings.filterwarnings(\"ignore\")\n",
    "import pickle"
   ]
  },
  {
   "cell_type": "markdown",
   "metadata": {},
   "source": [
    "#### Loading the dataset:"
   ]
  },
  {
   "cell_type": "code",
   "execution_count": 2,
   "metadata": {},
   "outputs": [
    {
     "data": {
      "text/html": [
       "<div>\n",
       "<style scoped>\n",
       "    .dataframe tbody tr th:only-of-type {\n",
       "        vertical-align: middle;\n",
       "    }\n",
       "\n",
       "    .dataframe tbody tr th {\n",
       "        vertical-align: top;\n",
       "    }\n",
       "\n",
       "    .dataframe thead th {\n",
       "        text-align: right;\n",
       "    }\n",
       "</style>\n",
       "<table border=\"1\" class=\"dataframe\">\n",
       "  <thead>\n",
       "    <tr style=\"text-align: right;\">\n",
       "      <th></th>\n",
       "      <th>Age</th>\n",
       "      <th>Delivey No</th>\n",
       "      <th>Delivery No</th>\n",
       "      <th>Blood of Pressure</th>\n",
       "      <th>Heart Problem</th>\n",
       "      <th>Caesarian</th>\n",
       "    </tr>\n",
       "  </thead>\n",
       "  <tbody>\n",
       "    <tr>\n",
       "      <th>0</th>\n",
       "      <td>22</td>\n",
       "      <td>1</td>\n",
       "      <td>Timely</td>\n",
       "      <td>High</td>\n",
       "      <td>apt</td>\n",
       "      <td>No</td>\n",
       "    </tr>\n",
       "    <tr>\n",
       "      <th>1</th>\n",
       "      <td>26</td>\n",
       "      <td>2</td>\n",
       "      <td>Timely</td>\n",
       "      <td>Normal</td>\n",
       "      <td>apt</td>\n",
       "      <td>Yes</td>\n",
       "    </tr>\n",
       "    <tr>\n",
       "      <th>2</th>\n",
       "      <td>26</td>\n",
       "      <td>2</td>\n",
       "      <td>Premature</td>\n",
       "      <td>Normal</td>\n",
       "      <td>apt</td>\n",
       "      <td>No</td>\n",
       "    </tr>\n",
       "    <tr>\n",
       "      <th>3</th>\n",
       "      <td>28</td>\n",
       "      <td>1</td>\n",
       "      <td>Timely</td>\n",
       "      <td>High</td>\n",
       "      <td>apt</td>\n",
       "      <td>No</td>\n",
       "    </tr>\n",
       "    <tr>\n",
       "      <th>4</th>\n",
       "      <td>22</td>\n",
       "      <td>2</td>\n",
       "      <td>Timely</td>\n",
       "      <td>Normal</td>\n",
       "      <td>apt</td>\n",
       "      <td>Yes</td>\n",
       "    </tr>\n",
       "  </tbody>\n",
       "</table>\n",
       "</div>"
      ],
      "text/plain": [
       "   Age  Delivey No Delivery No Blood of Pressure Heart Problem Caesarian\n",
       "0   22           1      Timely              High           apt        No\n",
       "1   26           2      Timely            Normal           apt       Yes\n",
       "2   26           2   Premature            Normal           apt        No\n",
       "3   28           1      Timely              High           apt        No\n",
       "4   22           2      Timely            Normal           apt       Yes"
      ]
     },
     "execution_count": 2,
     "metadata": {},
     "output_type": "execute_result"
    }
   ],
   "source": [
    "df = pd.read_csv('Cesarean .csv')\n",
    "df.head()"
   ]
  },
  {
   "cell_type": "code",
   "execution_count": 3,
   "metadata": {},
   "outputs": [
    {
     "data": {
      "text/plain": [
       "(80, 6)"
      ]
     },
     "execution_count": 3,
     "metadata": {},
     "output_type": "execute_result"
    }
   ],
   "source": [
    "# To know number od rows and column\n",
    "df.shape"
   ]
  },
  {
   "cell_type": "code",
   "execution_count": 4,
   "metadata": {},
   "outputs": [
    {
     "name": "stdout",
     "output_type": "stream",
     "text": [
      "<class 'pandas.core.frame.DataFrame'>\n",
      "RangeIndex: 80 entries, 0 to 79\n",
      "Data columns (total 6 columns):\n",
      " #   Column             Non-Null Count  Dtype \n",
      "---  ------             --------------  ----- \n",
      " 0   Age                80 non-null     int64 \n",
      " 1   Delivey No         80 non-null     int64 \n",
      " 2   Delivery No        80 non-null     object\n",
      " 3   Blood of Pressure  80 non-null     object\n",
      " 4   Heart Problem      80 non-null     object\n",
      " 5   Caesarian          80 non-null     object\n",
      "dtypes: int64(2), object(4)\n",
      "memory usage: 3.9+ KB\n"
     ]
    }
   ],
   "source": [
    "# To know if missing value is preset and also to know dtypes\n",
    "df.info()"
   ]
  },
  {
   "cell_type": "code",
   "execution_count": 5,
   "metadata": {},
   "outputs": [
    {
     "data": {
      "text/html": [
       "<div>\n",
       "<style scoped>\n",
       "    .dataframe tbody tr th:only-of-type {\n",
       "        vertical-align: middle;\n",
       "    }\n",
       "\n",
       "    .dataframe tbody tr th {\n",
       "        vertical-align: top;\n",
       "    }\n",
       "\n",
       "    .dataframe thead th {\n",
       "        text-align: right;\n",
       "    }\n",
       "</style>\n",
       "<table border=\"1\" class=\"dataframe\">\n",
       "  <thead>\n",
       "    <tr style=\"text-align: right;\">\n",
       "      <th></th>\n",
       "      <th>count</th>\n",
       "      <th>mean</th>\n",
       "      <th>std</th>\n",
       "      <th>min</th>\n",
       "      <th>25%</th>\n",
       "      <th>50%</th>\n",
       "      <th>75%</th>\n",
       "      <th>max</th>\n",
       "    </tr>\n",
       "  </thead>\n",
       "  <tbody>\n",
       "    <tr>\n",
       "      <th>Age</th>\n",
       "      <td>80.0</td>\n",
       "      <td>27.6875</td>\n",
       "      <td>5.017927</td>\n",
       "      <td>17.0</td>\n",
       "      <td>25.0</td>\n",
       "      <td>27.0</td>\n",
       "      <td>32.0</td>\n",
       "      <td>40.0</td>\n",
       "    </tr>\n",
       "    <tr>\n",
       "      <th>Delivey No</th>\n",
       "      <td>80.0</td>\n",
       "      <td>1.6625</td>\n",
       "      <td>0.794662</td>\n",
       "      <td>1.0</td>\n",
       "      <td>1.0</td>\n",
       "      <td>1.0</td>\n",
       "      <td>2.0</td>\n",
       "      <td>4.0</td>\n",
       "    </tr>\n",
       "  </tbody>\n",
       "</table>\n",
       "</div>"
      ],
      "text/plain": [
       "            count     mean       std   min   25%   50%   75%   max\n",
       "Age          80.0  27.6875  5.017927  17.0  25.0  27.0  32.0  40.0\n",
       "Delivey No   80.0   1.6625  0.794662   1.0   1.0   1.0   2.0   4.0"
      ]
     },
     "execution_count": 5,
     "metadata": {},
     "output_type": "execute_result"
    }
   ],
   "source": [
    "# Five point summary\n",
    "df.describe().T"
   ]
  },
  {
   "cell_type": "code",
   "execution_count": 6,
   "metadata": {},
   "outputs": [
    {
     "name": "stdout",
     "output_type": "stream",
     "text": [
      "No. of unique values in column Delivery No:\n",
      "Timely       46\n",
      "Premature    17\n",
      "Latecomer    17\n",
      "Name: Delivery No, dtype: int64 \n",
      "\n",
      "No. of unique values in column Blood of Pressure:\n",
      "Normal    40\n",
      "High      20\n",
      "Low       19\n",
      "low        1\n",
      "Name: Blood of Pressure, dtype: int64 \n",
      "\n",
      "No. of unique values in column Heart Problem:\n",
      "apt      50\n",
      "inept    30\n",
      "Name: Heart Problem, dtype: int64 \n",
      "\n",
      "No. of unique values in column Caesarian:\n",
      "Yes    42\n",
      "No     34\n",
      "yes     4\n",
      "Name: Caesarian, dtype: int64 \n",
      "\n"
     ]
    }
   ],
   "source": [
    "#To find no. of unique values in categorical columns\n",
    "\n",
    "for col in df.select_dtypes(include=object).columns:\n",
    "    print('No. of unique values in column '+col+':')\n",
    "    print(df[col].value_counts(),'\\n')"
   ]
  },
  {
   "cell_type": "markdown",
   "metadata": {},
   "source": [
    "- We can see that in column 'Blood of Pressure' there are 4 unique instead of 3\n",
    "- In column Caesarian there should be 2 instead of 3"
   ]
  },
  {
   "cell_type": "code",
   "execution_count": 7,
   "metadata": {},
   "outputs": [],
   "source": [
    "# Replacing 'low' to 'Low' and 'yes' to 'Yes' \n",
    "\n",
    "df['Blood of Pressure'] = df['Blood of Pressure'].replace('low','Low')\n",
    "df['Caesarian'] = df['Caesarian'].replace('yes','Yes')"
   ]
  },
  {
   "cell_type": "code",
   "execution_count": 8,
   "metadata": {},
   "outputs": [
    {
     "data": {
      "image/png": "[encoded data removed]",
      "text/plain": [
       "<Figure size 1080x720 with 4 Axes>"
      ]
     },
     "metadata": {
      "needs_background": "light"
     },
     "output_type": "display_data"
    }
   ],
   "source": [
    "# Plotting countplot\n",
    "\n",
    "fig = plt.figure(figsize=(15,10))\n",
    "\n",
    "fig.add_subplot(221)\n",
    "plt.title('Delivery No.', fontsize=12)\n",
    "sns.countplot(df['Delivery No'])\n",
    "\n",
    "fig.add_subplot(2,2,2)\n",
    "plt.title('Blood of Pressure', fontsize=12)\n",
    "sns.countplot(df['Blood of Pressure'])\n",
    "\n",
    "fig.add_subplot(223)\n",
    "plt.title('Heart Problem', fontsize=12)\n",
    "sns.countplot(df['Heart Problem'])\n",
    "\n",
    "fig.add_subplot(2,2,4)\n",
    "plt.title('Caesarian', fontsize=12)\n",
    "sns.countplot(df['Caesarian'])\n",
    "\n",
    "plt.show()"
   ]
  },
  {
   "cell_type": "code",
   "execution_count": 9,
   "metadata": {},
   "outputs": [
    {
     "data": {
      "text/html": [
       "<div>\n",
       "<style scoped>\n",
       "    .dataframe tbody tr th:only-of-type {\n",
       "        vertical-align: middle;\n",
       "    }\n",
       "\n",
       "    .dataframe tbody tr th {\n",
       "        vertical-align: top;\n",
       "    }\n",
       "\n",
       "    .dataframe thead th {\n",
       "        text-align: right;\n",
       "    }\n",
       "</style>\n",
       "<table border=\"1\" class=\"dataframe\">\n",
       "  <thead>\n",
       "    <tr style=\"text-align: right;\">\n",
       "      <th></th>\n",
       "      <th>Age</th>\n",
       "      <th>Delivey No</th>\n",
       "      <th>Delivery No_Premature</th>\n",
       "      <th>Delivery No_Timely</th>\n",
       "      <th>Blood of Pressure_Low</th>\n",
       "      <th>Blood of Pressure_Normal</th>\n",
       "      <th>Heart Problem_inept</th>\n",
       "      <th>Caesarian_Yes</th>\n",
       "    </tr>\n",
       "  </thead>\n",
       "  <tbody>\n",
       "    <tr>\n",
       "      <th>0</th>\n",
       "      <td>22</td>\n",
       "      <td>1</td>\n",
       "      <td>0</td>\n",
       "      <td>1</td>\n",
       "      <td>0</td>\n",
       "      <td>0</td>\n",
       "      <td>0</td>\n",
       "      <td>0</td>\n",
       "    </tr>\n",
       "    <tr>\n",
       "      <th>1</th>\n",
       "      <td>26</td>\n",
       "      <td>2</td>\n",
       "      <td>0</td>\n",
       "      <td>1</td>\n",
       "      <td>0</td>\n",
       "      <td>1</td>\n",
       "      <td>0</td>\n",
       "      <td>1</td>\n",
       "    </tr>\n",
       "    <tr>\n",
       "      <th>2</th>\n",
       "      <td>26</td>\n",
       "      <td>2</td>\n",
       "      <td>1</td>\n",
       "      <td>0</td>\n",
       "      <td>0</td>\n",
       "      <td>1</td>\n",
       "      <td>0</td>\n",
       "      <td>0</td>\n",
       "    </tr>\n",
       "    <tr>\n",
       "      <th>3</th>\n",
       "      <td>28</td>\n",
       "      <td>1</td>\n",
       "      <td>0</td>\n",
       "      <td>1</td>\n",
       "      <td>0</td>\n",
       "      <td>0</td>\n",
       "      <td>0</td>\n",
       "      <td>0</td>\n",
       "    </tr>\n",
       "    <tr>\n",
       "      <th>4</th>\n",
       "      <td>22</td>\n",
       "      <td>2</td>\n",
       "      <td>0</td>\n",
       "      <td>1</td>\n",
       "      <td>0</td>\n",
       "      <td>1</td>\n",
       "      <td>0</td>\n",
       "      <td>1</td>\n",
       "    </tr>\n",
       "  </tbody>\n",
       "</table>\n",
       "</div>"
      ],
      "text/plain": [
       "   Age  Delivey No  Delivery No_Premature  Delivery No_Timely  \\\n",
       "0   22           1                      0                   1   \n",
       "1   26           2                      0                   1   \n",
       "2   26           2                      1                   0   \n",
       "3   28           1                      0                   1   \n",
       "4   22           2                      0                   1   \n",
       "\n",
       "   Blood of Pressure_Low  Blood of Pressure_Normal  Heart Problem_inept  \\\n",
       "0                      0                         0                    0   \n",
       "1                      0                         1                    0   \n",
       "2                      0                         1                    0   \n",
       "3                      0                         0                    0   \n",
       "4                      0                         1                    0   \n",
       "\n",
       "   Caesarian_Yes  \n",
       "0              0  \n",
       "1              1  \n",
       "2              0  \n",
       "3              0  \n",
       "4              1  "
      ]
     },
     "execution_count": 9,
     "metadata": {},
     "output_type": "execute_result"
    }
   ],
   "source": [
    "# Encoding using One-Hot encoding\n",
    "\n",
    "df_dummy = pd.get_dummies(df,drop_first=True)\n",
    "df_dummy.head()"
   ]
  },
  {
   "cell_type": "markdown",
   "metadata": {},
   "source": [
    "#### Splitting into train and test:"
   ]
  },
  {
   "cell_type": "code",
   "execution_count": 10,
   "metadata": {},
   "outputs": [],
   "source": [
    "#Separting df_train in independent and dependent variable\n",
    "X=df_dummy.drop(['Caesarian_Yes'],axis=1)\n",
    "y=df_dummy['Caesarian_Yes']"
   ]
  },
  {
   "cell_type": "code",
   "execution_count": 11,
   "metadata": {},
   "outputs": [],
   "source": [
    "#Splitting df_train in train and test\n",
    "from sklearn.model_selection import train_test_split\n",
    "\n",
    "X_train, X_test, y_train, y_test = train_test_split(X, y, test_size=0.3, random_state=1)"
   ]
  },
  {
   "cell_type": "markdown",
   "metadata": {},
   "source": [
    "#### Modelling:"
   ]
  },
  {
   "cell_type": "code",
   "execution_count": 12,
   "metadata": {
    "scrolled": true
   },
   "outputs": [
    {
     "name": "stdout",
     "output_type": "stream",
     "text": [
      "Confusion Matrix - Train:  \n",
      " [[16  8]\n",
      " [ 9 23]]\n",
      "Overall accuracy - Train:  0.6964285714285714\n",
      "Confusion Matrix - Test:  \n",
      " [[ 6  4]\n",
      " [ 1 13]]\n",
      "Overall accuracy - Test:  0.7916666666666666\n"
     ]
    }
   ],
   "source": [
    "from sklearn.linear_model import LogisticRegression\n",
    "from sklearn.metrics import confusion_matrix, accuracy_score, classification_report\n",
    "\n",
    "logreg = LogisticRegression(solver='liblinear', fit_intercept=True) \n",
    "\n",
    "logreg.fit(X_train, y_train)\n",
    "\n",
    "y_prob_train = logreg.predict_proba(X_train)[:,1]\n",
    "y_pred_train = logreg.predict (X_train)\n",
    "\n",
    "print('Confusion Matrix - Train: ', '\\n', confusion_matrix(y_train, y_pred_train))\n",
    "print('Overall accuracy - Train: ', accuracy_score(y_train, y_pred_train))\n",
    "\n",
    "\n",
    "y_prob = logreg.predict_proba(X_test)[:,1]\n",
    "y_pred = logreg.predict (X_test)\n",
    "\n",
    "print('Confusion Matrix - Test: ','\\n', confusion_matrix(y_test, y_pred))\n",
    "print('Overall accuracy - Test: ', accuracy_score(y_test, y_pred))"
   ]
  },
  {
   "cell_type": "code",
   "execution_count": 16,
   "metadata": {},
   "outputs": [],
   "source": [
    "#Fitting whole dataset\n",
    "log_r = logreg.fit(X, y)"
   ]
  },
  {
   "cell_type": "markdown",
   "metadata": {},
   "source": [
    "#### Saving model in pickle:"
   ]
  },
  {
   "cell_type": "code",
   "execution_count": 17,
   "metadata": {},
   "outputs": [],
   "source": [
    "pickle.dump(log_r, open('caesarean.pkl','wb')) #wb->write binary"
   ]
  },
  {
   "cell_type": "code",
   "execution_count": null,
   "metadata": {},
   "outputs": [],
   "source": []
  }
 ],
 "metadata": {
  "kernelspec": {
   "display_name": "Python 3",
   "language": "python",
   "name": "python3"
  },
  "language_info": {
   "codemirror_mode": {
    "name": "ipython",
    "version": 3
   },
   "file_extension": ".py",
   "mimetype": "text/x-python",
   "name": "python",
   "nbconvert_exporter": "python",
   "pygments_lexer": "ipython3",
   "version": "3.7.7"
  }
 },
 "nbformat": 4,
 "nbformat_minor": 4
}
